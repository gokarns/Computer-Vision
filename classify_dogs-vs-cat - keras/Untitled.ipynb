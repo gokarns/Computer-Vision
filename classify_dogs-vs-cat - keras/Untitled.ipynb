{
 "cells": [
  {
   "cell_type": "code",
   "execution_count": 25,
   "metadata": {},
   "outputs": [],
   "source": [
    "from keras.models import Sequential\n",
    "from keras.layers import Dense\n",
    "import numpy as np"
   ]
  },
  {
   "cell_type": "code",
   "execution_count": 26,
   "metadata": {},
   "outputs": [],
   "source": [
    "data = np.random.random((1000,100))\n",
    "labels = np.random.randint(2, size = (1000,1))"
   ]
  },
  {
   "cell_type": "code",
   "execution_count": 27,
   "metadata": {},
   "outputs": [],
   "source": [
    "model = Sequential()\n",
    "model.add(Dense(32, activation='relu', input_dim=100))\n",
    "model.add(Dense(1, activation='sigmoid'))"
   ]
  },
  {
   "cell_type": "code",
   "execution_count": 28,
   "metadata": {},
   "outputs": [],
   "source": [
    "model.compile(optimizer='rmsprop', loss='binary_crossentropy', metrics=['accuracy'])"
   ]
  },
  {
   "cell_type": "code",
   "execution_count": 29,
   "metadata": {},
   "outputs": [
    {
     "name": "stdout",
     "output_type": "stream",
     "text": [
      "Epoch 1/10\n",
      "1000/1000 [==============================] - 0s - loss: 0.7081 - acc: 0.4940     \n",
      "Epoch 2/10\n",
      "1000/1000 [==============================] - 0s - loss: 0.7029 - acc: 0.4950     \n",
      "Epoch 3/10\n",
      "1000/1000 [==============================] - 0s - loss: 0.6941 - acc: 0.5290     \n",
      "Epoch 4/10\n",
      "1000/1000 [==============================] - 0s - loss: 0.6893 - acc: 0.5400     \n",
      "Epoch 5/10\n",
      "1000/1000 [==============================] - 0s - loss: 0.6871 - acc: 0.5440     \n",
      "Epoch 6/10\n",
      "1000/1000 [==============================] - 0s - loss: 0.6851 - acc: 0.5330     \n",
      "Epoch 7/10\n",
      "1000/1000 [==============================] - 0s - loss: 0.6817 - acc: 0.5510     \n",
      "Epoch 8/10\n",
      "1000/1000 [==============================] - 0s - loss: 0.6816 - acc: 0.5580     \n",
      "Epoch 9/10\n",
      "1000/1000 [==============================] - 0s - loss: 0.6747 - acc: 0.5980     \n",
      "Epoch 10/10\n",
      "1000/1000 [==============================] - 0s - loss: 0.6748 - acc: 0.5620     \n"
     ]
    },
    {
     "data": {
      "text/plain": [
       "<keras.callbacks.History at 0x7fea7137cf60>"
      ]
     },
     "execution_count": 29,
     "metadata": {},
     "output_type": "execute_result"
    }
   ],
   "source": [
    "model.fit(data, labels, epochs=10, batch_size=32)"
   ]
  },
  {
   "cell_type": "code",
   "execution_count": 30,
   "metadata": {},
   "outputs": [],
   "source": [
    "prediction = model.predict(data)"
   ]
  },
  {
   "cell_type": "code",
   "execution_count": null,
   "metadata": {
    "collapsed": true
   },
   "outputs": [],
   "source": []
  }
 ],
 "metadata": {
  "kernelspec": {
   "display_name": "Python 3",
   "language": "python",
   "name": "python3"
  },
  "language_info": {
   "codemirror_mode": {
    "name": "ipython",
    "version": 3
   },
   "file_extension": ".py",
   "mimetype": "text/x-python",
   "name": "python",
   "nbconvert_exporter": "python",
   "pygments_lexer": "ipython3",
   "version": "3.5.2"
  }
 },
 "nbformat": 4,
 "nbformat_minor": 2
}
