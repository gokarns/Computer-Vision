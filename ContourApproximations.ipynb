{
 "cells": [
  {
   "cell_type": "code",
   "execution_count": 1,
   "metadata": {},
   "outputs": [],
   "source": [
    "%matplotlib inline\n",
    "\n",
    "import cv2\n",
    "import numpy as np\n",
    "import ImageUtils"
   ]
  },
  {
   "cell_type": "code",
   "execution_count": 2,
   "metadata": {},
   "outputs": [
    {
     "data": {
      "image/png": "[encoded data removed]",
      "text/plain": [
       "<Figure size 432x288 with 1 Axes>"
      ]
     },
     "metadata": {},
     "output_type": "display_data"
    }
   ],
   "source": [
    "house = cv2.imread('D:/farzad/Artificial Intelligence/CV/fromTutor-20180901T044023Z-001/fromTutor/images/house.jpg')\n",
    "ImageUtils.show_img_plt(house)\n",
    "\n",
    "backup_house = house.copy()\n",
    "gray_house = cv2.cvtColor(house, cv2.COLOR_BGR2GRAY)\n",
    "ImageUtils.plot_grayscale_imshow(gray_house,5)"
   ]
  },
  {
   "cell_type": "code",
   "execution_count": 3,
   "metadata": {},
   "outputs": [],
   "source": [
    "ret_val, binarized_house = cv2.threshold(gray_house, 127,255,cv2.THRESH_BINARY_INV)\n",
    "ImageUtils.plot_grayscale_imshow(binarized_house,5)"
   ]
  },
  {
   "cell_type": "code",
   "execution_count": 4,
   "metadata": {},
   "outputs": [
    {
     "name": "stdout",
     "output_type": "stream",
     "text": [
      "2\n"
     ]
    }
   ],
   "source": [
    "#Find contours\n",
    "mod_image, contours, hierarchy = cv2.findContours(binarized_house.copy(),cv2.RETR_EXTERNAL,cv2.CHAIN_APPROX_NONE)\n",
    "print(str(len(contours)))"
   ]
  },
  {
   "cell_type": "code",
   "execution_count": 5,
   "metadata": {},
   "outputs": [],
   "source": [
    "#Iterate through contours and build bounded box\n",
    "\n",
    "for i in contours:\n",
    "    accuracy = 0.04*cv2.arcLength(i,True)\n",
    "    #approx_contour = cv2.approxPolyDP(i,accuracy,True)\n",
    "    approx_contour = cv2.convexHull(i,accuracy,True)\n",
    "    #print(approx_contour)\n",
    "    cv2.drawContours(house,[approx_contour],0,(0,255,0),2)\n",
    "    cv2.imshow('Approx Poly',house)\n",
    "    cv2.waitKey(5000)\n",
    "    cv2.destroyAllWindows()\n",
    "    \n",
    "    \n",
    "\n"
   ]
  },
  {
   "cell_type": "code",
   "execution_count": 13,
   "metadata": {},
   "outputs": [],
   "source": [
    "#shape matching\n",
    "template = cv2.imread('D:/farzad/Artificial Intelligence/CV/fromTutor-20180901T044023Z-001/fromTutor/images/template_image_shape.jpg')\n",
    "\n",
    "shapes = cv2.imread('D:/farzad/Artificial Intelligence/CV/fromTutor-20180901T044023Z-001/fromTutor/images/inp_shapes.jpg')\n",
    "gray_shapes = cv2.cvtColor(shapes, cv2.COLOR_BGR2GRAY)\n",
    "gray_template = cv2.cvtColor(template, cv2.COLOR_BGR2GRAY)\n",
    "\n",
    "ImageUtils.plot_grayscale_imshow(gray_shapes,5)\n",
    "ImageUtils.plot_grayscale_imshow(gray_template,5)"
   ]
  },
  {
   "cell_type": "code",
   "execution_count": 15,
   "metadata": {},
   "outputs": [],
   "source": [
    "\n",
    "ret , t_template = cv2.threshold(gray_template,127,255,0)\n",
    "ret , t_gray = cv2.threshold(gray_shapes,127,255,0)\n",
    "\n",
    "ImageUtils.plot_grayscale_imshow(t_template,5)\n",
    "ImageUtils.plot_grayscale_imshow(t_gray,5)\n"
   ]
  },
  {
   "cell_type": "code",
   "execution_count": 28,
   "metadata": {},
   "outputs": [
    {
     "name": "stdout",
     "output_type": "stream",
     "text": [
      "2\n"
     ]
    }
   ],
   "source": [
    "mod_image, contours, h = cv2.findContours(t_template.copy(),cv2.RETR_LIST, cv2.CHAIN_APPROX_NONE)\n",
    "print(str(len(contours)))"
   ]
  },
  {
   "cell_type": "code",
   "execution_count": 29,
   "metadata": {},
   "outputs": [
    {
     "name": "stdout",
     "output_type": "stream",
     "text": [
      "6\n"
     ]
    }
   ],
   "source": [
    "mod_image_inp, contours_inp, h_inp = cv2.findContours(t_gray.copy(),cv2.RETR_LIST, cv2.CHAIN_APPROX_NONE)\n",
    "print(str(len(contours_inp)))\n"
   ]
  },
  {
   "cell_type": "code",
   "execution_count": 30,
   "metadata": {},
   "outputs": [],
   "source": [
    "sorted_contours = sorted(contours, key=cv2.contourArea, reverse=True)\n",
    "template_contour_correct = sorted_contours[1]\n",
    "\n",
    "blank_image_template = np.zeros((t_template.shape[0],t_template.shape[1], 3))\n",
    "cv2.drawContours(blank_image_template, template_contour_correct, -1, (0,0,255), 2)\n",
    "cv2.imshow('Approx Poly', blank_image_template)\n",
    "cv2.waitKey(5000)\n",
    "cv2.destroyAllWindows()"
   ]
  },
  {
   "cell_type": "code",
   "execution_count": 32,
   "metadata": {},
   "outputs": [
    {
     "name": "stdout",
     "output_type": "stream",
     "text": [
      "6\n"
     ]
    }
   ],
   "source": [
    "mod_image_inp, contours_inp, hierarchy_inp  = cv2.findContours(t_gray.copy(), cv2.RETR_CCOMP, cv2.CHAIN_APPROX_NONE)\n",
    "print(str(len(contours_inp)))\n",
    "\n",
    "blank_image = np.zeros((t_gray.shape[0],t_gray.shape[1], 3))\n",
    "\n",
    "for contour in contours_inp:\n",
    "    cv2.drawContours(blank_image, contour, -1, (255,0,0), 2)\n",
    "    cv2.imshow('Approx Poly', blank_image)\n",
    "    cv2.waitKey(5000)\n",
    "    cv2.destroyAllWindows()\n",
    "    "
   ]
  },
  {
   "cell_type": "code",
   "execution_count": 34,
   "metadata": {},
   "outputs": [
    {
     "name": "stdout",
     "output_type": "stream",
     "text": [
      "5\n",
      "0.11767823374476596\n",
      "0.019027562407530264\n",
      "0.19328403343120895\n",
      "0.20326892530614005\n",
      "0.0008724628986861834\n"
     ]
    }
   ],
   "source": [
    "sorted_contours_inp = sorted(contours_inp, key=cv2.contourArea, reverse=True)\n",
    "contours_inp_correct =  sorted_contours_inp[1:]\n",
    "print(str(len(contours_inp_correct)))\n",
    "\n",
    "for inp_contour in contours_inp_correct:\n",
    "    \n",
    "    #cv2.matchShapes function matches the shapes\n",
    "    #Compares two inp shapes/contours and returs a matching number based on similarity\n",
    "    #Lower the number, better match it is\n",
    "    \n",
    "    match1 = cv2.matchShapes(template_contour_correct, inp_contour, 3, 0.0)\n",
    "    print (match1)\n",
    "    \n",
    "    if match1 < 0.15:\n",
    "        closest_contour = inp_contour\n",
    "    else:\n",
    "        closest_contour = []\n",
    "        \n",
    "        \n",
    "#Diplay the closest contour\n",
    "blank_image = np.zeros((t_gray.shape[0],t_gray.shape[1], 3))\n",
    "cv2.drawContours(blank_image, closest_contour, -1, (255,0,0), 2)\n",
    "cv2.imshow('Approx Poly', blank_image)\n",
    "cv2.waitKey(5000)\n",
    "cv2.destroyAllWindows()"
   ]
  },
  {
   "cell_type": "code",
   "execution_count": null,
   "metadata": {},
   "outputs": [],
   "source": []
  }
 ],
 "metadata": {
  "kernelspec": {
   "display_name": "Python 3",
   "language": "python",
   "name": "python3"
  },
  "language_info": {
   "codemirror_mode": {
    "name": "ipython",
    "version": 3
   },
   "file_extension": ".py",
   "mimetype": "text/x-python",
   "name": "python",
   "nbconvert_exporter": "python",
   "pygments_lexer": "ipython3",
   "version": "3.6.5"
  }
 },
 "nbformat": 4,
 "nbformat_minor": 2
}
