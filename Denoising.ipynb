{
 "cells": [
  {
   "cell_type": "code",
   "execution_count": null,
   "metadata": {},
   "outputs": [],
   "source": [
    "import numpy as np\n",
    "import cv2 as cv\n",
    "from matplotlib import pyplot as plt\n",
    "\n"
   ]
  },
  {
   "cell_type": "code",
   "execution_count": null,
   "metadata": {},
   "outputs": [],
   "source": [
    "img = cv.imread('die.png')\n",
    "dst = cv.fastNlMeansDenoisingColored(img,None,10,10,7,21)\n",
    "plt.subplot(121),plt.imshow(img)\n",
    "plt.subplot(122),plt.imshow(dst)\n",
    "plt.show()"
   ]
  },
  {
   "cell_type": "code",
   "execution_count": null,
   "metadata": {},
   "outputs": [],
   "source": [
    "\n",
    "cap = cv.VideoCapture('vtest.avi')\n",
    "# create a list of first 5 frames\n",
    "img = [cap.read()[1] for i in xrange(5)]\n",
    "# convert all to grayscale\n",
    "gray = [cv.cvtColor(i, cv.COLOR_BGR2GRAY) for i in img]\n",
    "# convert all to float64\n",
    "gray = [np.float64(i) for i in gray]\n",
    "# create a noise of variance 25\n",
    "noise = np.random.randn(*gray[1].shape)*10\n",
    "# Add this noise to images\n",
    "noisy = [i+noise for i in gray]\n",
    "# Convert back to uint8\n",
    "noisy = [np.uint8(np.clip(i,0,255)) for i in noisy]\n",
    "# Denoise 3rd frame considering all the 5 frames\n",
    "dst = cv.fastNlMeansDenoisingMulti(noisy, 2, 5, None, 4, 7, 35)\n",
    "plt.subplot(131),plt.imshow(gray[2],'gray')\n",
    "plt.subplot(132),plt.imshow(noisy[2],'gray')\n",
    "plt.subplot(133),plt.imsho"
   ]
  }
 ],
 "metadata": {
  "kernelspec": {
   "display_name": "Python 3",
   "language": "python",
   "name": "python3"
  },
  "language_info": {
   "codemirror_mode": {
    "name": "ipython",
    "version": 3
   },
   "file_extension": ".py",
   "mimetype": "text/x-python",
   "name": "python",
   "nbconvert_exporter": "python",
   "pygments_lexer": "ipython3",
   "version": "3.7.0"
  }
 },
 "nbformat": 4,
 "nbformat_minor": 2
}
