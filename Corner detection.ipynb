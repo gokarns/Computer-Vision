{
 "cells": [
  {
   "cell_type": "code",
   "execution_count": 1,
   "metadata": {},
   "outputs": [],
   "source": [
    "\n",
    "%matplotlib inline\n",
    "\n",
    "import cv2\n",
    "import numpy as np\n",
    "import ImageUtils"
   ]
  },
  {
   "cell_type": "code",
   "execution_count": 5,
   "metadata": {},
   "outputs": [],
   "source": [
    "img = cv2.imread('D:/farzad/Artificial Intelligence/CV/fromTutor-20180901T044023Z-001/fromTutor/images/chess.jpg')\n",
    "#ImageUtils.show_img_plt(img)\n",
    "\n",
    "gray_img = cv2.cvtColor(img, cv2.COLOR_BGR2GRAY)\n",
    "ImageUtils.plot_grayscale_imshow(gray_img,5)\n"
   ]
  },
  {
   "cell_type": "code",
   "execution_count": 8,
   "metadata": {},
   "outputs": [],
   "source": [
    "gray_img = np.float32(gray_img)\n",
    "\n",
    "hc = cv2.cornerHarris(gray_img,3,3,0.05)\n"
   ]
  },
  {
   "cell_type": "code",
   "execution_count": 10,
   "metadata": {},
   "outputs": [],
   "source": [
    "dilation = np.ones((5,5),np.uint8)\n",
    "hc_dilated = cv2.dilate(hc,dilation,iterations=2)\n"
   ]
  },
  {
   "cell_type": "code",
   "execution_count": 13,
   "metadata": {},
   "outputs": [],
   "source": [
    "img[hc_dilated>0.025*hc_dilated.max()] = [255,0,0]\n",
    "cv2.imshow('Corners',img)\n",
    "cv2.waitKey(10000)\n",
    "cv2.destroyAllWindows()"
   ]
  },
  {
   "cell_type": "code",
   "execution_count": 16,
   "metadata": {},
   "outputs": [],
   "source": [
    "#Using goodFeaturesToTrack\n",
    "gftt = cv2.goodFeaturesToTrack(gray_img,100,0.01,150)\n",
    "\n",
    "for c in gftt:\n",
    "    x_corner,y_corner = c[0]\n",
    "    x_corner = int(x_corner)\n",
    "    y_corner = int(y_corner)\n",
    "    cv2.rectangle(img, (x_corner-10,y_corner-10),(x_corner+10,y_corner+10),(0,255,0),2)\n",
    "    \n",
    "cv2.imshow('Corners', img)  \n",
    "cv2.waitKey(10000)\n",
    "cv2.destroyAllWindows()\n",
    "    "
   ]
  },
  {
   "cell_type": "code",
   "execution_count": null,
   "metadata": {},
   "outputs": [],
   "source": []
  }
 ],
 "metadata": {
  "kernelspec": {
   "display_name": "Python 3",
   "language": "python",
   "name": "python3"
  },
  "language_info": {
   "codemirror_mode": {
    "name": "ipython",
    "version": 3
   },
   "file_extension": ".py",
   "mimetype": "text/x-python",
   "name": "python",
   "nbconvert_exporter": "python",
   "pygments_lexer": "ipython3",
   "version": "3.6.5"
  }
 },
 "nbformat": 4,
 "nbformat_minor": 2
}
